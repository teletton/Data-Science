{
 "cells": [
  {
   "cell_type": "markdown",
   "id": "e9702871",
   "metadata": {},
   "source": [
    "# Approaching (almost) every NLP Problem\n",
    "\n",
    "This is my first notebook for Data Science, for starter I will write some simple models and standard feature extraction.\n",
    "\n",
    "## I Importing Libraries"
   ]
  },
  {
   "cell_type": "code",
   "execution_count": 7,
   "id": "c35355c7",
   "metadata": {},
   "outputs": [],
   "source": [
    "import pandas as pd\n",
    "import numpy as np\n",
    "import xgboost as xgb\n",
    "from tqdm import tqdm\n",
    "from sklearn.svm import SVC\n",
    "from keras.models import Sequential\n",
    "from keras.layers.recurrent import LSTM, GRU\n",
    "from keras.layers.core import Dense, Activation, Dropout\n",
    "from keras.layers.embeddings import Embedding\n",
    "from keras.layers.normalization import batch_normalization\n",
    "from keras.utils import np_utils\n",
    "from sklearn import model_selection, decomposition, preprocessing, metrics, pipeline\n",
    "from sklearn.model_selection import GridSearchCV\n",
    "from sklearn.feature_extraction.text import TfidfVectorizer, CountVectorizer\n",
    "from sklearn.decomposition import TruncatedSVD\n",
    "from sklearn.linear_model import LogisticRegression\n",
    "from sklearn.model_selection import train_test_split\n",
    "from sklearn.naive_bayes import MultinomialNB\n",
    "from keras.layers import GlobalAveragePooling1D, Conv1D, MaxPooling1D, Flatten, SpatialDropout1D\n",
    "from keras.preprocessing import sequence, text\n",
    "from keras.callbacks import EarlyStopping\n",
    "import nltk\n",
    "from nltk import word_tokenize\n",
    "from nltk.corpus import stopwords\n",
    "stop_words = stopwords.words('english')"
   ]
  },
  {
   "cell_type": "markdown",
   "id": "34b86035",
   "metadata": {},
   "source": [
    "## II Dataset"
   ]
  },
  {
   "cell_type": "code",
   "execution_count": null,
   "id": "99d11973",
   "metadata": {},
   "outputs": [],
   "source": [
    "train = pd.read_csv(\"../data/spooky/train.csv\")\n",
    "test = pd.read_csv(\"../data/spooky/test.csv\")\n",
    "sample = pd.read_csv(\"../data/spooky/sample_submission.csv\")\n",
    "\n",
    "train.head()"
   ]
  }
 ],
 "metadata": {
  "kernelspec": {
   "display_name": "Python 3 (ipykernel)",
   "language": "python",
   "name": "python3"
  },
  "language_info": {
   "codemirror_mode": {
    "name": "ipython",
    "version": 3
   },
   "file_extension": ".py",
   "mimetype": "text/x-python",
   "name": "python",
   "nbconvert_exporter": "python",
   "pygments_lexer": "ipython3",
   "version": "3.8.10"
  }
 },
 "nbformat": 4,
 "nbformat_minor": 5
}
