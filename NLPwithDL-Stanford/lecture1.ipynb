{
 "cells": [
  {
   "cell_type": "code",
   "execution_count": 1,
   "metadata": {},
   "outputs": [],
   "source": [
    "from nltk.corpus import wordnet as wn\n"
   ]
  },
  {
   "cell_type": "code",
   "execution_count": 6,
   "metadata": {},
   "outputs": [
    {
     "name": "stdout",
     "output_type": "stream",
     "text": [
      "Synset('good.n.01')\n",
      "Synset('good.n.02')\n",
      "Synset('good.n.03')\n",
      "Synset('commodity.n.01')\n",
      "Synset('good.a.01')\n",
      "Synset('full.s.06')\n",
      "Synset('good.a.03')\n",
      "Synset('estimable.s.02')\n",
      "Synset('beneficial.s.01')\n",
      "Synset('good.s.06')\n",
      "Synset('good.s.07')\n",
      "Synset('adept.s.01')\n",
      "Synset('good.s.09')\n",
      "Synset('dear.s.02')\n",
      "Synset('dependable.s.04')\n",
      "Synset('good.s.12')\n",
      "Synset('good.s.13')\n",
      "Synset('effective.s.04')\n",
      "Synset('good.s.15')\n",
      "Synset('good.s.16')\n",
      "Synset('good.s.17')\n",
      "Synset('good.s.18')\n",
      "Synset('good.s.19')\n",
      "Synset('good.s.20')\n",
      "Synset('good.s.21')\n",
      "Synset('well.r.01')\n",
      "Synset('thoroughly.r.02')\n"
     ]
    }
   ],
   "source": [
    "poses = {\n",
    "    'n' : 'noun',\n",
    "    'v' : 'verb',\n",
    "    's' : 'adj(s)',\n",
    "    'a' : 'adj',\n",
    "    'r' : 'adv'\n",
    "}\n",
    "\n",
    "for synset in wn.synsets(\"good\"):\n",
    "    print(synset)"
   ]
  },
  {
   "cell_type": "code",
   "execution_count": null,
   "metadata": {},
   "outputs": [],
   "source": []
  }
 ],
 "metadata": {
  "kernelspec": {
   "display_name": "Python 3.10.4 64-bit",
   "language": "python",
   "name": "python3"
  },
  "language_info": {
   "codemirror_mode": {
    "name": "ipython",
    "version": 3
   },
   "file_extension": ".py",
   "mimetype": "text/x-python",
   "name": "python",
   "nbconvert_exporter": "python",
   "pygments_lexer": "ipython3",
   "version": "3.10.4"
  },
  "orig_nbformat": 4,
  "vscode": {
   "interpreter": {
    "hash": "916dbcbb3f70747c44a77c7bcd40155683ae19c65e1c03b4aa3499c5328201f1"
   }
  }
 },
 "nbformat": 4,
 "nbformat_minor": 2
}
