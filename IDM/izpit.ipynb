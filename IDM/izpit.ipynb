{
 "cells": [
  {
   "cell_type": "code",
   "execution_count": 24,
   "metadata": {},
   "outputs": [],
   "source": [
    "import numpy as np\n",
    "\n",
    "from sklearn.metrics import r2_score\n",
    "from sklearn.model_selection import cross_validate, cross_val_predict\n",
    "from sklearn.linear_model import LinearRegression"
   ]
  },
  {
   "cell_type": "code",
   "execution_count": 25,
   "metadata": {},
   "outputs": [],
   "source": [
    "X = np.random.rand(1000, 500)\n",
    "y = np.random.rand(1000, 1)\n",
    "\n",
    "X = X * 100\n",
    "y = y * 100"
   ]
  },
  {
   "cell_type": "code",
   "execution_count": 46,
   "metadata": {},
   "outputs": [
    {
     "name": "stdout",
     "output_type": "stream",
     "text": [
      "[219, 423, 315, 311, 205]\n"
     ]
    }
   ],
   "source": [
    "\n",
    "all = np.concatenate([X, y], axis=1)\n",
    "correlation = np.corrcoef(all, rowvar=False)\n",
    "correlation[:, -1]\n",
    "dict = {abs(correlation[i, -1]) : i for i in range(501)}\n",
    "keys = dict.keys()\n",
    "keys = sorted(keys)\n",
    "\n",
    "\n",
    "indexes = [dict[keys[i]] for i in range(-2, -7, -1)]\n",
    "print(indexes)"
   ]
  },
  {
   "cell_type": "code",
   "execution_count": 59,
   "metadata": {},
   "outputs": [
    {
     "name": "stdout",
     "output_type": "stream",
     "text": [
      "[[69.42135287 42.20842124 59.24687441 ...  7.48749869 50.08489531\n",
      "  42.8932522 ]\n",
      " [56.00989027  9.68488295 38.62660044 ... 60.19785285 61.74695074\n",
      "   6.98040404]\n",
      " [65.7613435  62.70670888 33.18188822 ... 45.94665871 53.86999848\n",
      "  25.75592134]\n",
      " ...\n",
      " [41.85336084  7.90508402 69.75737122 ... 95.85420587 85.9108361\n",
      "  57.3432405 ]\n",
      " [92.5795593  66.79470912 69.62467499 ... 10.3378474  96.66944082\n",
      "  72.64780839]\n",
      " [12.75171269 59.65642348 95.48771269 ... 27.41462183 34.95807307\n",
      "  46.99255799]]\n",
      "(500, 1000)\n"
     ]
    },
    {
     "ename": "AxisError",
     "evalue": "axis 1 is out of bounds for array of dimension 1",
     "output_type": "error",
     "traceback": [
      "\u001b[0;31m---------------------------------------------------------------------------\u001b[0m",
      "\u001b[0;31mAxisError\u001b[0m                                 Traceback (most recent call last)",
      "\u001b[1;32m/home/gganbu/Documents/Data-Science/IDM/izpit.ipynb Cell 4\u001b[0m in \u001b[0;36m<cell line: 4>\u001b[0;34m()\u001b[0m\n\u001b[1;32m      <a href='vscode-notebook-cell:/home/gganbu/Documents/Data-Science/IDM/izpit.ipynb#ch0000002?line=1'>2</a>\u001b[0m \u001b[39mprint\u001b[39m(X\u001b[39m.\u001b[39mshape)\n\u001b[1;32m      <a href='vscode-notebook-cell:/home/gganbu/Documents/Data-Science/IDM/izpit.ipynb#ch0000002?line=2'>3</a>\u001b[0m X \u001b[39m=\u001b[39m X\u001b[39m.\u001b[39mT\n\u001b[0;32m----> <a href='vscode-notebook-cell:/home/gganbu/Documents/Data-Science/IDM/izpit.ipynb#ch0000002?line=3'>4</a>\u001b[0m new_X \u001b[39m=\u001b[39m np\u001b[39m.\u001b[39;49mconcatenate([X[\u001b[39m219\u001b[39;49m], X[\u001b[39m423\u001b[39;49m], X[\u001b[39m315\u001b[39;49m], X[\u001b[39m311\u001b[39;49m], X[\u001b[39m205\u001b[39;49m]], axis\u001b[39m=\u001b[39;49m\u001b[39m1\u001b[39;49m)\n\u001b[1;32m      <a href='vscode-notebook-cell:/home/gganbu/Documents/Data-Science/IDM/izpit.ipynb#ch0000002?line=4'>5</a>\u001b[0m \u001b[39mprint\u001b[39m(new_X\u001b[39m.\u001b[39mshape)\n",
      "File \u001b[0;32m<__array_function__ internals>:180\u001b[0m, in \u001b[0;36mconcatenate\u001b[0;34m(*args, **kwargs)\u001b[0m\n",
      "\u001b[0;31mAxisError\u001b[0m: axis 1 is out of bounds for array of dimension 1"
     ]
    }
   ],
   "source": [
    "print(X)\n",
    "print(X.shape)\n",
    "X = X.T\n",
    "new_X = np.concatenate([X[219], X[423], X[315], X[311], X[205]], axis=1)\n",
    "print(new_X.shape)\n"
   ]
  },
  {
   "cell_type": "code",
   "execution_count": 56,
   "metadata": {},
   "outputs": [
    {
     "ename": "ValueError",
     "evalue": "Found input variables with inconsistent numbers of samples: [5000, 1000]",
     "output_type": "error",
     "traceback": [
      "\u001b[0;31m---------------------------------------------------------------------------\u001b[0m",
      "\u001b[0;31mValueError\u001b[0m                                Traceback (most recent call last)",
      "\u001b[1;32m/home/gganbu/Documents/Data-Science/IDM/izpit.ipynb Cell 5\u001b[0m in \u001b[0;36m<cell line: 4>\u001b[0;34m()\u001b[0m\n\u001b[1;32m      <a href='vscode-notebook-cell:/home/gganbu/Documents/Data-Science/IDM/izpit.ipynb#ch0000003?line=0'>1</a>\u001b[0m new_X \u001b[39m=\u001b[39m new_X\u001b[39m.\u001b[39mT\n\u001b[1;32m      <a href='vscode-notebook-cell:/home/gganbu/Documents/Data-Science/IDM/izpit.ipynb#ch0000003?line=1'>2</a>\u001b[0m model \u001b[39m=\u001b[39m LinearRegression()\n\u001b[0;32m----> <a href='vscode-notebook-cell:/home/gganbu/Documents/Data-Science/IDM/izpit.ipynb#ch0000003?line=3'>4</a>\u001b[0m y_preds \u001b[39m=\u001b[39m cross_val_predict(model, new_X, y)\n",
      "File \u001b[0;32m~/.local/lib/python3.10/site-packages/sklearn/model_selection/_validation.py:933\u001b[0m, in \u001b[0;36mcross_val_predict\u001b[0;34m(estimator, X, y, groups, cv, n_jobs, verbose, fit_params, pre_dispatch, method)\u001b[0m\n\u001b[1;32m    797\u001b[0m \u001b[39mdef\u001b[39;00m \u001b[39mcross_val_predict\u001b[39m(\n\u001b[1;32m    798\u001b[0m     estimator,\n\u001b[1;32m    799\u001b[0m     X,\n\u001b[0;32m   (...)\u001b[0m\n\u001b[1;32m    808\u001b[0m     method\u001b[39m=\u001b[39m\u001b[39m\"\u001b[39m\u001b[39mpredict\u001b[39m\u001b[39m\"\u001b[39m,\n\u001b[1;32m    809\u001b[0m ):\n\u001b[1;32m    810\u001b[0m     \u001b[39m\"\"\"Generate cross-validated estimates for each input data point.\u001b[39;00m\n\u001b[1;32m    811\u001b[0m \n\u001b[1;32m    812\u001b[0m \u001b[39m    The data is split according to the cv parameter. Each sample belongs\u001b[39;00m\n\u001b[0;32m   (...)\u001b[0m\n\u001b[1;32m    931\u001b[0m \u001b[39m    >>> y_pred = cross_val_predict(lasso, X, y, cv=3)\u001b[39;00m\n\u001b[1;32m    932\u001b[0m \u001b[39m    \"\"\"\u001b[39;00m\n\u001b[0;32m--> 933\u001b[0m     X, y, groups \u001b[39m=\u001b[39m indexable(X, y, groups)\n\u001b[1;32m    935\u001b[0m     cv \u001b[39m=\u001b[39m check_cv(cv, y, classifier\u001b[39m=\u001b[39mis_classifier(estimator))\n\u001b[1;32m    936\u001b[0m     splits \u001b[39m=\u001b[39m \u001b[39mlist\u001b[39m(cv\u001b[39m.\u001b[39msplit(X, y, groups))\n",
      "File \u001b[0;32m~/.local/lib/python3.10/site-packages/sklearn/utils/validation.py:378\u001b[0m, in \u001b[0;36mindexable\u001b[0;34m(*iterables)\u001b[0m\n\u001b[1;32m    359\u001b[0m \u001b[39m\"\"\"Make arrays indexable for cross-validation.\u001b[39;00m\n\u001b[1;32m    360\u001b[0m \n\u001b[1;32m    361\u001b[0m \u001b[39mChecks consistent length, passes through None, and ensures that everything\u001b[39;00m\n\u001b[0;32m   (...)\u001b[0m\n\u001b[1;32m    374\u001b[0m \u001b[39m    sparse matrix, or dataframe) or `None`.\u001b[39;00m\n\u001b[1;32m    375\u001b[0m \u001b[39m\"\"\"\u001b[39;00m\n\u001b[1;32m    377\u001b[0m result \u001b[39m=\u001b[39m [_make_indexable(X) \u001b[39mfor\u001b[39;00m X \u001b[39min\u001b[39;00m iterables]\n\u001b[0;32m--> 378\u001b[0m check_consistent_length(\u001b[39m*\u001b[39;49mresult)\n\u001b[1;32m    379\u001b[0m \u001b[39mreturn\u001b[39;00m result\n",
      "File \u001b[0;32m~/.local/lib/python3.10/site-packages/sklearn/utils/validation.py:332\u001b[0m, in \u001b[0;36mcheck_consistent_length\u001b[0;34m(*arrays)\u001b[0m\n\u001b[1;32m    330\u001b[0m uniques \u001b[39m=\u001b[39m np\u001b[39m.\u001b[39munique(lengths)\n\u001b[1;32m    331\u001b[0m \u001b[39mif\u001b[39;00m \u001b[39mlen\u001b[39m(uniques) \u001b[39m>\u001b[39m \u001b[39m1\u001b[39m:\n\u001b[0;32m--> 332\u001b[0m     \u001b[39mraise\u001b[39;00m \u001b[39mValueError\u001b[39;00m(\n\u001b[1;32m    333\u001b[0m         \u001b[39m\"\u001b[39m\u001b[39mFound input variables with inconsistent numbers of samples: \u001b[39m\u001b[39m%r\u001b[39;00m\u001b[39m\"\u001b[39m\n\u001b[1;32m    334\u001b[0m         \u001b[39m%\u001b[39m [\u001b[39mint\u001b[39m(l) \u001b[39mfor\u001b[39;00m l \u001b[39min\u001b[39;00m lengths]\n\u001b[1;32m    335\u001b[0m     )\n",
      "\u001b[0;31mValueError\u001b[0m: Found input variables with inconsistent numbers of samples: [5000, 1000]"
     ]
    }
   ],
   "source": [
    "new_X = new_X.T\n",
    "model = LinearRegression()\n",
    "\n",
    "y_preds = cross_val_predict(model, new_X, y)"
   ]
  },
  {
   "cell_type": "code",
   "execution_count": 28,
   "metadata": {},
   "outputs": [
    {
     "name": "stdout",
     "output_type": "stream",
     "text": [
      "-1.597239287039398\n"
     ]
    }
   ],
   "source": [
    "print(r2_score(y, y_preds))"
   ]
  },
  {
   "cell_type": "code",
   "execution_count": null,
   "metadata": {},
   "outputs": [],
   "source": []
  }
 ],
 "metadata": {
  "kernelspec": {
   "display_name": "Python 3.10.4 64-bit",
   "language": "python",
   "name": "python3"
  },
  "language_info": {
   "codemirror_mode": {
    "name": "ipython",
    "version": 3
   },
   "file_extension": ".py",
   "mimetype": "text/x-python",
   "name": "python",
   "nbconvert_exporter": "python",
   "pygments_lexer": "ipython3",
   "version": "3.8.10"
  },
  "orig_nbformat": 4,
  "vscode": {
   "interpreter": {
    "hash": "916dbcbb3f70747c44a77c7bcd40155683ae19c65e1c03b4aa3499c5328201f1"
   }
  }
 },
 "nbformat": 4,
 "nbformat_minor": 2
}
