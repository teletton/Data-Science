{
 "cells": [
  {
   "cell_type": "code",
   "execution_count": 46,
   "metadata": {},
   "outputs": [],
   "source": [
    "import pandas as pd\n",
    "import numpy as np\n",
    "from matplotlib import pyplot as plt\n",
    "from sklearn.model_selection import KFold, cross_val_predict\n",
    "from sklearn.linear_model import Ridge, Lasso, LinearRegression\n",
    "from sklearn.metrics import r2_score\n"
   ]
  },
  {
   "cell_type": "code",
   "execution_count": 47,
   "metadata": {},
   "outputs": [],
   "source": [
    "# load the data, prepare it for sklearn\n",
    "data = pd.read_excel(\"bodyfat.xlsx\")\n",
    "m = data.to_numpy()\n",
    "X, y = m[:, 1:], m[:, 0]\n",
    "\n",
    "labels = data.columns.values[1:]"
   ]
  },
  {
   "cell_type": "code",
   "execution_count": 48,
   "metadata": {},
   "outputs": [
    {
     "name": "stdout",
     "output_type": "stream",
     "text": [
      "['age [yr]' 'weight [kg]' 'height [cm]' 'bmi' 'neck [cm]' 'chest [cm]'\n",
      " 'abdomen [cm]' 'hip [cm]' 'tight [cm]' 'knee [cm]' 'ankle [cm]'\n",
      " 'biceps [cm]' 'forearm [cm]' 'wrist [cm]']\n"
     ]
    }
   ],
   "source": [
    "print(labels)"
   ]
  },
  {
   "cell_type": "code",
   "execution_count": 49,
   "metadata": {},
   "outputs": [
    {
     "name": "stdout",
     "output_type": "stream",
     "text": [
      "R2 for unregularized regression: 0.676\n"
     ]
    }
   ],
   "source": [
    "\n",
    "# normalization\n",
    "# think about why it has no effect with plain (unregularized) linear regression\n",
    "# and why the cross-validated accuracy changes between raw and normalized data\n",
    "# when we use regularization\n",
    "#X = X - X.mean(axis=0)\n",
    "#X /= X.std(axis=0)\n",
    "\n",
    "# selection of the model\n",
    "# model_type = LinearRegression\n",
    "model_type, model_name = \\\n",
    "    [(Ridge, \"Ridge Regression\"), (Lasso, \"Lasso Regression\")][1]\n",
    "\n",
    "# cross validation\n",
    "# for the start, to figure out if we are doing well\n",
    "# and to compare between normalized and raw data\n",
    "cv = KFold(n_splits=10, random_state=1, shuffle=True)\n",
    "model = LinearRegression()\n",
    "y_hat = cross_val_predict(model, X, y, cv=cv, n_jobs=-1)\n",
    "r2 = r2_score(y, y_hat)\n",
    "print(f\"R2 for unregularized regression: {r2:.3}\")"
   ]
  },
  {
   "cell_type": "code",
   "execution_count": 50,
   "metadata": {},
   "outputs": [
    {
     "name": "stderr",
     "output_type": "stream",
     "text": [
      "/home/gganbu/.local/lib/python3.10/site-packages/sklearn/linear_model/_coordinate_descent.py:647: ConvergenceWarning: Objective did not converge. You might want to increase the number of iterations, check the scale of the features or consider increasing regularisation. Duality gap: 6.753e+01, tolerance: 1.296e+00\n",
      "  model = cd_fast.enet_coordinate_descent(\n",
      "/home/gganbu/.local/lib/python3.10/site-packages/sklearn/linear_model/_coordinate_descent.py:647: ConvergenceWarning: Objective did not converge. You might want to increase the number of iterations, check the scale of the features or consider increasing regularisation. Duality gap: 1.003e+01, tolerance: 1.296e+00\n",
      "  model = cd_fast.enet_coordinate_descent(\n"
     ]
    },
    {
     "name": "stdout",
     "output_type": "stream",
     "text": [
      "0.7117081252796834\n",
      "Best regularization strength: 0.21\n"
     ]
    }
   ],
   "source": [
    "# choice of regularization parameters\n",
    "alphas = np.logspace(-4, 5, 20)\n",
    "\n",
    "# how does the accuracy change with regularization strength?\n",
    "# we cross-validate to assess the accuracy and plot\n",
    "# the accuracy(regularization strength) graph\n",
    "r2s = []\n",
    "for alpha in alphas:\n",
    "    model = model_type(alpha=alpha)\n",
    "    y_hat = cross_val_predict(model, X, y, cv=cv, n_jobs=-1)\n",
    "    r2 = r2_score(y, y_hat)\n",
    "    r2s.append(r2)\n",
    "\n",
    "index_max = np.argmax(r2s)\n",
    "best_alpha = alphas[index_max]\n",
    "print(np.max(r2s))\n",
    "print(f\"Best regularization strength: {best_alpha:.2}\")"
   ]
  },
  {
   "cell_type": "code",
   "execution_count": 23,
   "metadata": {},
   "outputs": [
    {
     "data": {
      "text/plain": [
       "<Figure size 432x288 with 0 Axes>"
      ]
     },
     "metadata": {},
     "output_type": "display_data"
    }
   ],
   "source": [
    "fig = plt.figure()\n",
    "ax = plt.gca()\n",
    "ax.plot(alphas, r2s, \"o-\")\n",
    "ax.set_xscale('log')\n",
    "plt.xlabel(\"regularization strength\")\n",
    "plt.ylabel(\"cross validated r2\")\n",
    "plt.savefig(\"fig-accuracy-vs-regularization.pdf\")\n",
    "plt.clf()"
   ]
  },
  {
   "cell_type": "code",
   "execution_count": 24,
   "metadata": {},
   "outputs": [
    {
     "data": {
      "text/plain": [
       "<Figure size 432x288 with 0 Axes>"
      ]
     },
     "metadata": {},
     "output_type": "display_data"
    }
   ],
   "source": [
    "# select best-ranked features for specific degree of regularization\n",
    "alpha = 0.1\n",
    "model = model_type(alpha=alpha)\n",
    "fitted = model.fit(X, y)\n",
    "coef = np.abs(fitted.coef_)\n",
    "\n",
    "k = 5 # number of best-rank features to select\n",
    "ind = np.argpartition(coef, -k)[-k:]\n",
    "\n",
    "# compute coefficients for the regularization path\n",
    "cs = []\n",
    "for alpha in alphas:\n",
    "    model = model_type(alpha=alpha)\n",
    "    fitted = model.fit(X, y)\n",
    "    cs.append(fitted.coef_)\n",
    "res = np.stack(cs)\n",
    "\n",
    "# plot the regularization path for selected features\n",
    "fig = plt.figure()\n",
    "ax = plt.gca()\n",
    "for i in ind:\n",
    "    ax.plot(alphas, res[:, i], \"o-\", label=labels[i])\n",
    "ax.legend(loc=\"upper right\")\n",
    "ax.set_xscale('log')\n",
    "plt.xlabel(\"regularization strength\")\n",
    "plt.ylabel(\"feature weight\")\n",
    "plt.savefig(\"fig-regularization-path.pdf\")\n",
    "plt.clf()"
   ]
  },
  {
   "cell_type": "code",
   "execution_count": null,
   "metadata": {},
   "outputs": [],
   "source": []
  }
 ],
 "metadata": {
  "kernelspec": {
   "display_name": "Python 3.10.4 64-bit",
   "language": "python",
   "name": "python3"
  },
  "language_info": {
   "codemirror_mode": {
    "name": "ipython",
    "version": 3
   },
   "file_extension": ".py",
   "mimetype": "text/x-python",
   "name": "python",
   "nbconvert_exporter": "python",
   "pygments_lexer": "ipython3",
   "version": "3.10.4"
  },
  "orig_nbformat": 4,
  "vscode": {
   "interpreter": {
    "hash": "916dbcbb3f70747c44a77c7bcd40155683ae19c65e1c03b4aa3499c5328201f1"
   }
  }
 },
 "nbformat": 4,
 "nbformat_minor": 2
}
